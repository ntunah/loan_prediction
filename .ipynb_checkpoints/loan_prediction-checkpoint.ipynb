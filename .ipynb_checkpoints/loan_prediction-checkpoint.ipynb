{
 "cells": [
  {
   "cell_type": "code",
   "execution_count": 1,
   "metadata": {},
   "outputs": [],
   "source": [
    "# Decision Tree"
   ]
  },
  {
   "cell_type": "code",
   "execution_count": null,
   "metadata": {},
   "outputs": [],
   "source": [
    "# Is a tree shaped diagram used to determine a course of action.\n",
    "# Each branch of the tree represents a possible decision, occurence or reaction"
   ]
  },
  {
   "cell_type": "code",
   "execution_count": null,
   "metadata": {},
   "outputs": [],
   "source": [
    "# Disadvantages\n",
    "# 1. Overfitting \n",
    "# 2. High variance\n",
    "# 3. Low baised tree"
   ]
  },
  {
   "cell_type": "code",
   "execution_count": null,
   "metadata": {},
   "outputs": [],
   "source": [
    "# Problems that can be solved\n",
    "# 1. Classification tree will determine a set of logical if-then conditions to classify problems - grouping 3 type of flowers based on certain features\n",
    "# 2. Regression tree is used when the target is numberical or continuous in nature. we fit aregression model to the target variable using each of the independent variable"
   ]
  },
  {
   "cell_type": "code",
   "execution_count": null,
   "metadata": {},
   "outputs": [],
   "source": [
    "# Important terms\n",
    "# 1. Entropy - is the measure of randomness or unpredictability in the dataset\n",
    "# 2. Inforamtion Gain -It is the measure of decrease in entropy after the dataset is split\n",
    "# 3. Leaf node - carries the classification or the decision\n",
    "# 4. Root node - the top decision node is know as the root node"
   ]
  },
  {
   "cell_type": "code",
   "execution_count": null,
   "metadata": {},
   "outputs": [],
   "source": []
  },
  {
   "cell_type": "markdown",
   "metadata": {},
   "source": [
    "# Loan Repayment Prediction"
   ]
  },
  {
   "cell_type": "code",
   "execution_count": null,
   "metadata": {},
   "outputs": [],
   "source": [
    "# Statement\n",
    "# predict if my customers are going to return the loan they took from my bank or not?"
   ]
  },
  {
   "cell_type": "code",
   "execution_count": null,
   "metadata": {},
   "outputs": [],
   "source": []
  },
  {
   "cell_type": "code",
   "execution_count": null,
   "metadata": {},
   "outputs": [],
   "source": []
  }
 ],
 "metadata": {
  "kernelspec": {
   "display_name": "Python 3",
   "language": "python",
   "name": "python3"
  },
  "language_info": {
   "codemirror_mode": {
    "name": "ipython",
    "version": 3
   },
   "file_extension": ".py",
   "mimetype": "text/x-python",
   "name": "python",
   "nbconvert_exporter": "python",
   "pygments_lexer": "ipython3",
   "version": "3.7.6"
  }
 },
 "nbformat": 4,
 "nbformat_minor": 4
}
